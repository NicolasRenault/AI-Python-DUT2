{
 "cells": [
  {
   "cell_type": "code",
   "execution_count": 1,
   "metadata": {},
   "outputs": [],
   "source": [
    "#-----------------Import-----------------\n",
    "import matplotlib.image as image\n",
    "import matplotlib.pyplot as plt\n",
    "import os\n",
    "import sklearn as sk\n",
    "import numpy as np\n",
    "import matplotlib.image as image\n",
    "import matplotlib.pyplot as plt\n",
    "from sklearn.model_selection import train_test_split\n",
    "from sklearn.neighbors import KNeighborsClassifier\n",
    "from sklearn.metrics import accuracy_score\n",
    "from sklearn import metrics"
   ]
  },
  {
   "cell_type": "code",
   "execution_count": 2,
   "metadata": {},
   "outputs": [],
   "source": [
    "im2 = image.imread('imgs/NORM/mdb004.pgm')"
   ]
  },
  {
   "cell_type": "code",
   "execution_count": 3,
   "metadata": {},
   "outputs": [],
   "source": [
    "directoryN ='imgs/NORM/'\n",
    "directoryI ='imgs/infected/'\n",
    "\n",
    "nbimage = len(os.listdir(directoryN)) + len(os.listdir(directoryI))\n",
    "\n",
    "imgs=np.zeros([im2.shape[0]*im2.shape[1]+1,nbimage])\n",
    "\n",
    "i = 0\n",
    "\n",
    "for filename in os.listdir(directoryN) : \n",
    "    im = image.imread(directoryN+filename)\n",
    "    imgs[:-1,i]=im.reshape(im.shape[0]*im.shape[1])\n",
    "    imgs[-1,i]=0\n",
    "    i+=1\n",
    "\n",
    "for filename in os.listdir(directoryI) : \n",
    "    im = image.imread(directoryI+filename)\n",
    "    imgs[:-1,i]=im.reshape(im.shape[0]*im.shape[1])\n",
    "    imgs[-1,i]=1\n",
    "    i+=1"
   ]
  },
  {
   "cell_type": "code",
   "execution_count": 4,
   "metadata": {},
   "outputs": [],
   "source": [
    "X=imgs[:-1,:]\n",
    "y=imgs[-1,:]\n",
    "X=np.transpose(X)"
   ]
  },
  {
   "cell_type": "code",
   "execution_count": 5,
   "metadata": {
    "scrolled": true
   },
   "outputs": [],
   "source": [
    "KNN = KNeighborsClassifier()\n",
    "\n",
    "Xtrain, Xtest, ytrain, ytest = train_test_split(X, y,test_size=0.45, random_state=0)\n",
    "\n",
    "\n",
    "clf = KNN.fit(Xtrain, ytrain)\n",
    "ypredit = clf.predict(Xtest)"
   ]
  },
  {
   "cell_type": "code",
   "execution_count": 6,
   "metadata": {
    "scrolled": true
   },
   "outputs": [
    {
     "data": {
      "text/plain": [
       "0.6"
      ]
     },
     "execution_count": 6,
     "metadata": {},
     "output_type": "execute_result"
    }
   ],
   "source": [
    "accuracy_score(ytest, ypredit)"
   ]
  },
  {
   "cell_type": "code",
   "execution_count": 7,
   "metadata": {
    "scrolled": true
   },
   "outputs": [
    {
     "name": "stdout",
     "output_type": "stream",
     "text": [
      "[[73 19]\n",
      " [39 14]]\n"
     ]
    }
   ],
   "source": [
    "print(metrics.confusion_matrix(ytest, ypredit))"
   ]
  },
  {
   "cell_type": "code",
   "execution_count": 13,
   "metadata": {},
   "outputs": [
    {
     "data": {
      "image/png": "[encoded data removed]",
      "text/plain": [
       "<Figure size 432x288 with 1 Axes>"
      ]
     },
     "metadata": {},
     "output_type": "display_data"
    }
   ],
   "source": [
    "total = metrics.confusion_matrix(ytest, ypredit)[0][0] + metrics.confusion_matrix(ytest, ypredit)[1][0]\n",
    "p = np.zeros(2)\n",
    "p[0] = (metrics.confusion_matrix(ytest, ypredit)[0][0] / total) * 100\n",
    "p[1] = (metrics.confusion_matrix(ytest, ypredit)[1][0] / total) * 100\n",
    "\n",
    "\n",
    "plt.pie(p, labels=['Réussite', 'Echec'], colors=['lightgreen', 'pink'],\n",
    "       shadow=True, autopct='%1.1f%%', explode=(0,0.1))\n",
    "plt.savefig('cambiare.png')\n",
    "plt.show()"
   ]
  },
  {
   "cell_type": "code",
   "execution_count": 15,
   "metadata": {},
   "outputs": [
    {
     "data": {
      "image/png": "[encoded data removed]",
      "text/plain": [
       "<Figure size 432x288 with 1 Axes>"
      ]
     },
     "metadata": {},
     "output_type": "display_data"
    }
   ],
   "source": [
    "total = metrics.confusion_matrix(ytest, ypredit)[1][1] + metrics.confusion_matrix(ytest, ypredit)[0][1]\n",
    "p = np.zeros(2)\n",
    "p[0] = (metrics.confusion_matrix(ytest, ypredit)[0][1] / total) * 100\n",
    "p[1] = (metrics.confusion_matrix(ytest, ypredit)[1][1] / total) * 100\n",
    "\n",
    "\n",
    "plt.pie(p, labels=['Réussite', 'Echec'], colors=['lightgreen', 'pink'],\n",
    "       shadow=True, autopct='%1.1f%%', explode=(0,0.1))\n",
    "plt.savefig('cambiare22.png')\n",
    "plt.show()"
   ]
  }
 ],
 "metadata": {
  "kernelspec": {
   "display_name": "Python 3",
   "language": "python",
   "name": "python3"
  },
  "language_info": {
   "codemirror_mode": {
    "name": "ipython",
    "version": 3
   },
   "file_extension": ".py",
   "mimetype": "text/x-python",
   "name": "python",
   "nbconvert_exporter": "python",
   "pygments_lexer": "ipython3",
   "version": "3.7.3"
  }
 },
 "nbformat": 4,
 "nbformat_minor": 2
}
